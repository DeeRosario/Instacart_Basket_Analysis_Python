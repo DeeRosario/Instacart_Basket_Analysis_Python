{
 "cells": [
  {
   "cell_type": "markdown",
   "id": "433ffd8e",
   "metadata": {},
   "source": [
    "# Task 4.10 PART 1 of 2"
   ]
  },
  {
   "cell_type": "markdown",
   "id": "627def56",
   "metadata": {},
   "source": [
    "# Table Of Contents\n",
    "\n",
    "## 1. Data Import\n",
    "## 2. PII Data Security Implications\n",
    "## 3. Customer Behavior per Geographical Area\n",
    "## 4. Identifying Low Activity Customers\n",
    "## 5. Customer Profiling for Marketing Strategies\n",
    "## 6. Distribution of Customer Profiles Visualization\n",
    "## 7. Profiles Usage Frequency and Expenditure\n",
    "## 8. Customer Comparison via Rgions and Departments"
   ]
  },
  {
   "cell_type": "markdown",
   "id": "6536f209",
   "metadata": {},
   "source": [
    "# 1. Data Import"
   ]
  },
  {
   "cell_type": "code",
   "execution_count": 1,
   "id": "2cff761d",
   "metadata": {},
   "outputs": [],
   "source": [
    "# import libraries\n",
    "\n",
    "import pandas as pd\n",
    "import numpy as np\n",
    "import os\n",
    "import matplotlib.pyplot as plt\n",
    "import seaborn as sns\n",
    "import scipy"
   ]
  },
  {
   "cell_type": "code",
   "execution_count": 2,
   "id": "2228bb4a",
   "metadata": {},
   "outputs": [],
   "source": [
    "# Set path\n",
    "path = r'C:\\Users\\asus\\Instacart Basket Analysis 01-2024'"
   ]
  },
  {
   "cell_type": "code",
   "execution_count": 12,
   "id": "5e0e2065",
   "metadata": {},
   "outputs": [],
   "source": [
    "# import datafgrame from previous Task\n",
    "IC_full_merge = pd.read_pickle(os.path.join(path, '02 Data', 'Prepared Data', 'ords_prods_cust_merge.pkl'))"
   ]
  },
  {
   "cell_type": "code",
   "execution_count": 14,
   "id": "afd91c35",
   "metadata": {},
   "outputs": [],
   "source": [
    "IC_full_merge['days_since_prior_order'] = IC_full_merge['days_since_prior_order'].astype('float32')"
   ]
  },
  {
   "cell_type": "code",
   "execution_count": 15,
   "id": "e4f928c0",
   "metadata": {},
   "outputs": [],
   "source": [
    "crosstab = pd.crosstab(IC_full_merge['days_since_prior_order'], IC_full_merge['order_number'], dropna = False)"
   ]
  },
  {
   "cell_type": "code",
   "execution_count": 16,
   "id": "d302efb0",
   "metadata": {},
   "outputs": [
    {
     "data": {
      "text/html": [
       "<div>\n",
       "<style scoped>\n",
       "    .dataframe tbody tr th:only-of-type {\n",
       "        vertical-align: middle;\n",
       "    }\n",
       "\n",
       "    .dataframe tbody tr th {\n",
       "        vertical-align: top;\n",
       "    }\n",
       "\n",
       "    .dataframe thead th {\n",
       "        text-align: right;\n",
       "    }\n",
       "</style>\n",
       "<table border=\"1\" class=\"dataframe\">\n",
       "  <thead>\n",
       "    <tr style=\"text-align: right;\">\n",
       "      <th>order_number</th>\n",
       "      <th>1</th>\n",
       "      <th>2</th>\n",
       "      <th>3</th>\n",
       "      <th>4</th>\n",
       "      <th>5</th>\n",
       "      <th>6</th>\n",
       "      <th>7</th>\n",
       "      <th>8</th>\n",
       "      <th>9</th>\n",
       "      <th>10</th>\n",
       "      <th>...</th>\n",
       "      <th>90</th>\n",
       "      <th>91</th>\n",
       "      <th>92</th>\n",
       "      <th>93</th>\n",
       "      <th>94</th>\n",
       "      <th>95</th>\n",
       "      <th>96</th>\n",
       "      <th>97</th>\n",
       "      <th>98</th>\n",
       "      <th>99</th>\n",
       "    </tr>\n",
       "    <tr>\n",
       "      <th>days_since_prior_order</th>\n",
       "      <th></th>\n",
       "      <th></th>\n",
       "      <th></th>\n",
       "      <th></th>\n",
       "      <th></th>\n",
       "      <th></th>\n",
       "      <th></th>\n",
       "      <th></th>\n",
       "      <th></th>\n",
       "      <th></th>\n",
       "      <th></th>\n",
       "      <th></th>\n",
       "      <th></th>\n",
       "      <th></th>\n",
       "      <th></th>\n",
       "      <th></th>\n",
       "      <th></th>\n",
       "      <th></th>\n",
       "      <th></th>\n",
       "      <th></th>\n",
       "      <th></th>\n",
       "    </tr>\n",
       "  </thead>\n",
       "  <tbody>\n",
       "    <tr>\n",
       "      <th>0.0</th>\n",
       "      <td>0</td>\n",
       "      <td>20536</td>\n",
       "      <td>20441</td>\n",
       "      <td>17984</td>\n",
       "      <td>16438</td>\n",
       "      <td>16046</td>\n",
       "      <td>14384</td>\n",
       "      <td>13890</td>\n",
       "      <td>12774</td>\n",
       "      <td>11460</td>\n",
       "      <td>...</td>\n",
       "      <td>1195</td>\n",
       "      <td>1148</td>\n",
       "      <td>1040</td>\n",
       "      <td>937</td>\n",
       "      <td>1134</td>\n",
       "      <td>1099</td>\n",
       "      <td>1041</td>\n",
       "      <td>883</td>\n",
       "      <td>1037</td>\n",
       "      <td>935</td>\n",
       "    </tr>\n",
       "    <tr>\n",
       "      <th>1.0</th>\n",
       "      <td>0</td>\n",
       "      <td>31674</td>\n",
       "      <td>29950</td>\n",
       "      <td>28010</td>\n",
       "      <td>27092</td>\n",
       "      <td>25533</td>\n",
       "      <td>24996</td>\n",
       "      <td>22921</td>\n",
       "      <td>21783</td>\n",
       "      <td>21067</td>\n",
       "      <td>...</td>\n",
       "      <td>2787</td>\n",
       "      <td>2801</td>\n",
       "      <td>2728</td>\n",
       "      <td>2605</td>\n",
       "      <td>2606</td>\n",
       "      <td>2639</td>\n",
       "      <td>2436</td>\n",
       "      <td>2535</td>\n",
       "      <td>2633</td>\n",
       "      <td>2363</td>\n",
       "    </tr>\n",
       "    <tr>\n",
       "      <th>2.0</th>\n",
       "      <td>0</td>\n",
       "      <td>46454</td>\n",
       "      <td>46264</td>\n",
       "      <td>43902</td>\n",
       "      <td>40729</td>\n",
       "      <td>40907</td>\n",
       "      <td>38101</td>\n",
       "      <td>37519</td>\n",
       "      <td>35745</td>\n",
       "      <td>33830</td>\n",
       "      <td>...</td>\n",
       "      <td>3623</td>\n",
       "      <td>3555</td>\n",
       "      <td>3314</td>\n",
       "      <td>3589</td>\n",
       "      <td>3319</td>\n",
       "      <td>3072</td>\n",
       "      <td>2985</td>\n",
       "      <td>3057</td>\n",
       "      <td>3091</td>\n",
       "      <td>2609</td>\n",
       "    </tr>\n",
       "    <tr>\n",
       "      <th>3.0</th>\n",
       "      <td>0</td>\n",
       "      <td>61637</td>\n",
       "      <td>63388</td>\n",
       "      <td>59996</td>\n",
       "      <td>57882</td>\n",
       "      <td>56183</td>\n",
       "      <td>52869</td>\n",
       "      <td>49291</td>\n",
       "      <td>48295</td>\n",
       "      <td>47826</td>\n",
       "      <td>...</td>\n",
       "      <td>3318</td>\n",
       "      <td>3237</td>\n",
       "      <td>2799</td>\n",
       "      <td>3073</td>\n",
       "      <td>2902</td>\n",
       "      <td>2635</td>\n",
       "      <td>2658</td>\n",
       "      <td>2462</td>\n",
       "      <td>2168</td>\n",
       "      <td>2467</td>\n",
       "    </tr>\n",
       "    <tr>\n",
       "      <th>4.0</th>\n",
       "      <td>0</td>\n",
       "      <td>76733</td>\n",
       "      <td>78861</td>\n",
       "      <td>73540</td>\n",
       "      <td>70519</td>\n",
       "      <td>66569</td>\n",
       "      <td>62399</td>\n",
       "      <td>61143</td>\n",
       "      <td>59499</td>\n",
       "      <td>57700</td>\n",
       "      <td>...</td>\n",
       "      <td>2342</td>\n",
       "      <td>2260</td>\n",
       "      <td>2490</td>\n",
       "      <td>2031</td>\n",
       "      <td>1800</td>\n",
       "      <td>2083</td>\n",
       "      <td>1918</td>\n",
       "      <td>1792</td>\n",
       "      <td>1695</td>\n",
       "      <td>1810</td>\n",
       "    </tr>\n",
       "    <tr>\n",
       "      <th>5.0</th>\n",
       "      <td>0</td>\n",
       "      <td>88999</td>\n",
       "      <td>91741</td>\n",
       "      <td>86503</td>\n",
       "      <td>81859</td>\n",
       "      <td>77583</td>\n",
       "      <td>73584</td>\n",
       "      <td>70020</td>\n",
       "      <td>64468</td>\n",
       "      <td>63154</td>\n",
       "      <td>...</td>\n",
       "      <td>1630</td>\n",
       "      <td>1630</td>\n",
       "      <td>1367</td>\n",
       "      <td>983</td>\n",
       "      <td>1215</td>\n",
       "      <td>1220</td>\n",
       "      <td>1166</td>\n",
       "      <td>966</td>\n",
       "      <td>912</td>\n",
       "      <td>936</td>\n",
       "    </tr>\n",
       "    <tr>\n",
       "      <th>6.0</th>\n",
       "      <td>0</td>\n",
       "      <td>120681</td>\n",
       "      <td>122871</td>\n",
       "      <td>114644</td>\n",
       "      <td>106764</td>\n",
       "      <td>100756</td>\n",
       "      <td>95954</td>\n",
       "      <td>89752</td>\n",
       "      <td>87203</td>\n",
       "      <td>78634</td>\n",
       "      <td>...</td>\n",
       "      <td>754</td>\n",
       "      <td>842</td>\n",
       "      <td>940</td>\n",
       "      <td>1014</td>\n",
       "      <td>835</td>\n",
       "      <td>570</td>\n",
       "      <td>490</td>\n",
       "      <td>602</td>\n",
       "      <td>485</td>\n",
       "      <td>542</td>\n",
       "    </tr>\n",
       "    <tr>\n",
       "      <th>7.0</th>\n",
       "      <td>0</td>\n",
       "      <td>184802</td>\n",
       "      <td>181656</td>\n",
       "      <td>167597</td>\n",
       "      <td>157442</td>\n",
       "      <td>143628</td>\n",
       "      <td>137675</td>\n",
       "      <td>128423</td>\n",
       "      <td>120734</td>\n",
       "      <td>114769</td>\n",
       "      <td>...</td>\n",
       "      <td>634</td>\n",
       "      <td>573</td>\n",
       "      <td>521</td>\n",
       "      <td>440</td>\n",
       "      <td>602</td>\n",
       "      <td>421</td>\n",
       "      <td>420</td>\n",
       "      <td>378</td>\n",
       "      <td>419</td>\n",
       "      <td>322</td>\n",
       "    </tr>\n",
       "    <tr>\n",
       "      <th>8.0</th>\n",
       "      <td>0</td>\n",
       "      <td>112324</td>\n",
       "      <td>110742</td>\n",
       "      <td>102217</td>\n",
       "      <td>94945</td>\n",
       "      <td>87611</td>\n",
       "      <td>81622</td>\n",
       "      <td>78760</td>\n",
       "      <td>71070</td>\n",
       "      <td>67567</td>\n",
       "      <td>...</td>\n",
       "      <td>238</td>\n",
       "      <td>262</td>\n",
       "      <td>228</td>\n",
       "      <td>244</td>\n",
       "      <td>275</td>\n",
       "      <td>232</td>\n",
       "      <td>234</td>\n",
       "      <td>143</td>\n",
       "      <td>137</td>\n",
       "      <td>84</td>\n",
       "    </tr>\n",
       "    <tr>\n",
       "      <th>9.0</th>\n",
       "      <td>0</td>\n",
       "      <td>73676</td>\n",
       "      <td>75379</td>\n",
       "      <td>68513</td>\n",
       "      <td>65045</td>\n",
       "      <td>58933</td>\n",
       "      <td>54801</td>\n",
       "      <td>50593</td>\n",
       "      <td>47752</td>\n",
       "      <td>43483</td>\n",
       "      <td>...</td>\n",
       "      <td>190</td>\n",
       "      <td>90</td>\n",
       "      <td>98</td>\n",
       "      <td>101</td>\n",
       "      <td>146</td>\n",
       "      <td>91</td>\n",
       "      <td>67</td>\n",
       "      <td>102</td>\n",
       "      <td>66</td>\n",
       "      <td>65</td>\n",
       "    </tr>\n",
       "    <tr>\n",
       "      <th>10.0</th>\n",
       "      <td>0</td>\n",
       "      <td>62037</td>\n",
       "      <td>62457</td>\n",
       "      <td>57676</td>\n",
       "      <td>51916</td>\n",
       "      <td>49463</td>\n",
       "      <td>43706</td>\n",
       "      <td>41110</td>\n",
       "      <td>38443</td>\n",
       "      <td>34916</td>\n",
       "      <td>...</td>\n",
       "      <td>60</td>\n",
       "      <td>103</td>\n",
       "      <td>222</td>\n",
       "      <td>78</td>\n",
       "      <td>45</td>\n",
       "      <td>116</td>\n",
       "      <td>4</td>\n",
       "      <td>101</td>\n",
       "      <td>42</td>\n",
       "      <td>59</td>\n",
       "    </tr>\n",
       "    <tr>\n",
       "      <th>11.0</th>\n",
       "      <td>0</td>\n",
       "      <td>55561</td>\n",
       "      <td>55918</td>\n",
       "      <td>51974</td>\n",
       "      <td>45512</td>\n",
       "      <td>42542</td>\n",
       "      <td>40174</td>\n",
       "      <td>36884</td>\n",
       "      <td>33404</td>\n",
       "      <td>30830</td>\n",
       "      <td>...</td>\n",
       "      <td>57</td>\n",
       "      <td>83</td>\n",
       "      <td>175</td>\n",
       "      <td>55</td>\n",
       "      <td>68</td>\n",
       "      <td>126</td>\n",
       "      <td>63</td>\n",
       "      <td>64</td>\n",
       "      <td>1</td>\n",
       "      <td>19</td>\n",
       "    </tr>\n",
       "    <tr>\n",
       "      <th>12.0</th>\n",
       "      <td>0</td>\n",
       "      <td>54604</td>\n",
       "      <td>56630</td>\n",
       "      <td>51043</td>\n",
       "      <td>44615</td>\n",
       "      <td>42591</td>\n",
       "      <td>38685</td>\n",
       "      <td>35331</td>\n",
       "      <td>33477</td>\n",
       "      <td>29857</td>\n",
       "      <td>...</td>\n",
       "      <td>58</td>\n",
       "      <td>54</td>\n",
       "      <td>70</td>\n",
       "      <td>32</td>\n",
       "      <td>50</td>\n",
       "      <td>75</td>\n",
       "      <td>55</td>\n",
       "      <td>52</td>\n",
       "      <td>5</td>\n",
       "      <td>66</td>\n",
       "    </tr>\n",
       "    <tr>\n",
       "      <th>13.0</th>\n",
       "      <td>0</td>\n",
       "      <td>63962</td>\n",
       "      <td>66351</td>\n",
       "      <td>58478</td>\n",
       "      <td>54339</td>\n",
       "      <td>47725</td>\n",
       "      <td>44872</td>\n",
       "      <td>41268</td>\n",
       "      <td>38333</td>\n",
       "      <td>34275</td>\n",
       "      <td>...</td>\n",
       "      <td>69</td>\n",
       "      <td>93</td>\n",
       "      <td>93</td>\n",
       "      <td>80</td>\n",
       "      <td>85</td>\n",
       "      <td>24</td>\n",
       "      <td>27</td>\n",
       "      <td>61</td>\n",
       "      <td>83</td>\n",
       "      <td>68</td>\n",
       "    </tr>\n",
       "    <tr>\n",
       "      <th>14.0</th>\n",
       "      <td>0</td>\n",
       "      <td>82109</td>\n",
       "      <td>79773</td>\n",
       "      <td>74714</td>\n",
       "      <td>67484</td>\n",
       "      <td>60476</td>\n",
       "      <td>54863</td>\n",
       "      <td>49237</td>\n",
       "      <td>46265</td>\n",
       "      <td>42381</td>\n",
       "      <td>...</td>\n",
       "      <td>38</td>\n",
       "      <td>8</td>\n",
       "      <td>13</td>\n",
       "      <td>96</td>\n",
       "      <td>55</td>\n",
       "      <td>41</td>\n",
       "      <td>32</td>\n",
       "      <td>54</td>\n",
       "      <td>33</td>\n",
       "      <td>5</td>\n",
       "    </tr>\n",
       "    <tr>\n",
       "      <th>15.0</th>\n",
       "      <td>0</td>\n",
       "      <td>54492</td>\n",
       "      <td>53593</td>\n",
       "      <td>50229</td>\n",
       "      <td>44029</td>\n",
       "      <td>39497</td>\n",
       "      <td>35548</td>\n",
       "      <td>33879</td>\n",
       "      <td>29615</td>\n",
       "      <td>27757</td>\n",
       "      <td>...</td>\n",
       "      <td>44</td>\n",
       "      <td>14</td>\n",
       "      <td>31</td>\n",
       "      <td>25</td>\n",
       "      <td>6</td>\n",
       "      <td>23</td>\n",
       "      <td>20</td>\n",
       "      <td>17</td>\n",
       "      <td>7</td>\n",
       "      <td>17</td>\n",
       "    </tr>\n",
       "    <tr>\n",
       "      <th>16.0</th>\n",
       "      <td>0</td>\n",
       "      <td>38887</td>\n",
       "      <td>39524</td>\n",
       "      <td>34481</td>\n",
       "      <td>30581</td>\n",
       "      <td>28286</td>\n",
       "      <td>25429</td>\n",
       "      <td>22407</td>\n",
       "      <td>22373</td>\n",
       "      <td>20587</td>\n",
       "      <td>...</td>\n",
       "      <td>65</td>\n",
       "      <td>20</td>\n",
       "      <td>7</td>\n",
       "      <td>0</td>\n",
       "      <td>12</td>\n",
       "      <td>0</td>\n",
       "      <td>39</td>\n",
       "      <td>50</td>\n",
       "      <td>17</td>\n",
       "      <td>10</td>\n",
       "    </tr>\n",
       "    <tr>\n",
       "      <th>17.0</th>\n",
       "      <td>0</td>\n",
       "      <td>31942</td>\n",
       "      <td>32861</td>\n",
       "      <td>29823</td>\n",
       "      <td>26271</td>\n",
       "      <td>23860</td>\n",
       "      <td>20629</td>\n",
       "      <td>18592</td>\n",
       "      <td>17567</td>\n",
       "      <td>16012</td>\n",
       "      <td>...</td>\n",
       "      <td>14</td>\n",
       "      <td>0</td>\n",
       "      <td>32</td>\n",
       "      <td>0</td>\n",
       "      <td>16</td>\n",
       "      <td>7</td>\n",
       "      <td>4</td>\n",
       "      <td>23</td>\n",
       "      <td>0</td>\n",
       "      <td>5</td>\n",
       "    </tr>\n",
       "    <tr>\n",
       "      <th>18.0</th>\n",
       "      <td>0</td>\n",
       "      <td>31615</td>\n",
       "      <td>30484</td>\n",
       "      <td>27305</td>\n",
       "      <td>24859</td>\n",
       "      <td>21999</td>\n",
       "      <td>19165</td>\n",
       "      <td>17597</td>\n",
       "      <td>16762</td>\n",
       "      <td>15066</td>\n",
       "      <td>...</td>\n",
       "      <td>0</td>\n",
       "      <td>1</td>\n",
       "      <td>13</td>\n",
       "      <td>0</td>\n",
       "      <td>20</td>\n",
       "      <td>0</td>\n",
       "      <td>51</td>\n",
       "      <td>0</td>\n",
       "      <td>0</td>\n",
       "      <td>26</td>\n",
       "    </tr>\n",
       "    <tr>\n",
       "      <th>19.0</th>\n",
       "      <td>0</td>\n",
       "      <td>29890</td>\n",
       "      <td>31364</td>\n",
       "      <td>26501</td>\n",
       "      <td>23852</td>\n",
       "      <td>21441</td>\n",
       "      <td>19910</td>\n",
       "      <td>17867</td>\n",
       "      <td>15702</td>\n",
       "      <td>14316</td>\n",
       "      <td>...</td>\n",
       "      <td>0</td>\n",
       "      <td>6</td>\n",
       "      <td>0</td>\n",
       "      <td>0</td>\n",
       "      <td>0</td>\n",
       "      <td>0</td>\n",
       "      <td>21</td>\n",
       "      <td>14</td>\n",
       "      <td>0</td>\n",
       "      <td>0</td>\n",
       "    </tr>\n",
       "    <tr>\n",
       "      <th>20.0</th>\n",
       "      <td>0</td>\n",
       "      <td>35489</td>\n",
       "      <td>35213</td>\n",
       "      <td>31767</td>\n",
       "      <td>28748</td>\n",
       "      <td>25526</td>\n",
       "      <td>23119</td>\n",
       "      <td>19785</td>\n",
       "      <td>17132</td>\n",
       "      <td>16038</td>\n",
       "      <td>...</td>\n",
       "      <td>31</td>\n",
       "      <td>41</td>\n",
       "      <td>7</td>\n",
       "      <td>0</td>\n",
       "      <td>9</td>\n",
       "      <td>0</td>\n",
       "      <td>0</td>\n",
       "      <td>0</td>\n",
       "      <td>0</td>\n",
       "      <td>0</td>\n",
       "    </tr>\n",
       "    <tr>\n",
       "      <th>21.0</th>\n",
       "      <td>0</td>\n",
       "      <td>43945</td>\n",
       "      <td>44587</td>\n",
       "      <td>37647</td>\n",
       "      <td>32182</td>\n",
       "      <td>31429</td>\n",
       "      <td>26005</td>\n",
       "      <td>23502</td>\n",
       "      <td>20599</td>\n",
       "      <td>19549</td>\n",
       "      <td>...</td>\n",
       "      <td>19</td>\n",
       "      <td>0</td>\n",
       "      <td>32</td>\n",
       "      <td>12</td>\n",
       "      <td>0</td>\n",
       "      <td>19</td>\n",
       "      <td>0</td>\n",
       "      <td>0</td>\n",
       "      <td>12</td>\n",
       "      <td>0</td>\n",
       "    </tr>\n",
       "    <tr>\n",
       "      <th>22.0</th>\n",
       "      <td>0</td>\n",
       "      <td>30037</td>\n",
       "      <td>29490</td>\n",
       "      <td>26582</td>\n",
       "      <td>23394</td>\n",
       "      <td>20486</td>\n",
       "      <td>18492</td>\n",
       "      <td>16947</td>\n",
       "      <td>15403</td>\n",
       "      <td>13864</td>\n",
       "      <td>...</td>\n",
       "      <td>0</td>\n",
       "      <td>9</td>\n",
       "      <td>0</td>\n",
       "      <td>0</td>\n",
       "      <td>0</td>\n",
       "      <td>0</td>\n",
       "      <td>0</td>\n",
       "      <td>0</td>\n",
       "      <td>0</td>\n",
       "      <td>0</td>\n",
       "    </tr>\n",
       "    <tr>\n",
       "      <th>23.0</th>\n",
       "      <td>0</td>\n",
       "      <td>22950</td>\n",
       "      <td>24117</td>\n",
       "      <td>19794</td>\n",
       "      <td>17068</td>\n",
       "      <td>15570</td>\n",
       "      <td>13896</td>\n",
       "      <td>11557</td>\n",
       "      <td>11146</td>\n",
       "      <td>8681</td>\n",
       "      <td>...</td>\n",
       "      <td>13</td>\n",
       "      <td>0</td>\n",
       "      <td>0</td>\n",
       "      <td>0</td>\n",
       "      <td>0</td>\n",
       "      <td>9</td>\n",
       "      <td>0</td>\n",
       "      <td>0</td>\n",
       "      <td>0</td>\n",
       "      <td>0</td>\n",
       "    </tr>\n",
       "    <tr>\n",
       "      <th>24.0</th>\n",
       "      <td>0</td>\n",
       "      <td>19287</td>\n",
       "      <td>19434</td>\n",
       "      <td>16898</td>\n",
       "      <td>15718</td>\n",
       "      <td>13536</td>\n",
       "      <td>12404</td>\n",
       "      <td>10803</td>\n",
       "      <td>9504</td>\n",
       "      <td>8252</td>\n",
       "      <td>...</td>\n",
       "      <td>0</td>\n",
       "      <td>0</td>\n",
       "      <td>0</td>\n",
       "      <td>0</td>\n",
       "      <td>0</td>\n",
       "      <td>0</td>\n",
       "      <td>0</td>\n",
       "      <td>0</td>\n",
       "      <td>0</td>\n",
       "      <td>0</td>\n",
       "    </tr>\n",
       "    <tr>\n",
       "      <th>25.0</th>\n",
       "      <td>0</td>\n",
       "      <td>18759</td>\n",
       "      <td>19368</td>\n",
       "      <td>16264</td>\n",
       "      <td>14223</td>\n",
       "      <td>12605</td>\n",
       "      <td>10713</td>\n",
       "      <td>9214</td>\n",
       "      <td>8535</td>\n",
       "      <td>7797</td>\n",
       "      <td>...</td>\n",
       "      <td>0</td>\n",
       "      <td>0</td>\n",
       "      <td>0</td>\n",
       "      <td>0</td>\n",
       "      <td>0</td>\n",
       "      <td>0</td>\n",
       "      <td>0</td>\n",
       "      <td>0</td>\n",
       "      <td>0</td>\n",
       "      <td>0</td>\n",
       "    </tr>\n",
       "    <tr>\n",
       "      <th>26.0</th>\n",
       "      <td>0</td>\n",
       "      <td>18449</td>\n",
       "      <td>19464</td>\n",
       "      <td>16067</td>\n",
       "      <td>14922</td>\n",
       "      <td>12991</td>\n",
       "      <td>11803</td>\n",
       "      <td>9902</td>\n",
       "      <td>8717</td>\n",
       "      <td>7911</td>\n",
       "      <td>...</td>\n",
       "      <td>0</td>\n",
       "      <td>0</td>\n",
       "      <td>0</td>\n",
       "      <td>0</td>\n",
       "      <td>0</td>\n",
       "      <td>9</td>\n",
       "      <td>0</td>\n",
       "      <td>0</td>\n",
       "      <td>0</td>\n",
       "      <td>0</td>\n",
       "    </tr>\n",
       "    <tr>\n",
       "      <th>27.0</th>\n",
       "      <td>0</td>\n",
       "      <td>21333</td>\n",
       "      <td>22614</td>\n",
       "      <td>20202</td>\n",
       "      <td>18333</td>\n",
       "      <td>14454</td>\n",
       "      <td>12479</td>\n",
       "      <td>11797</td>\n",
       "      <td>10209</td>\n",
       "      <td>8594</td>\n",
       "      <td>...</td>\n",
       "      <td>12</td>\n",
       "      <td>0</td>\n",
       "      <td>0</td>\n",
       "      <td>0</td>\n",
       "      <td>0</td>\n",
       "      <td>0</td>\n",
       "      <td>0</td>\n",
       "      <td>0</td>\n",
       "      <td>0</td>\n",
       "      <td>0</td>\n",
       "    </tr>\n",
       "    <tr>\n",
       "      <th>28.0</th>\n",
       "      <td>0</td>\n",
       "      <td>27969</td>\n",
       "      <td>28780</td>\n",
       "      <td>25260</td>\n",
       "      <td>20869</td>\n",
       "      <td>18116</td>\n",
       "      <td>16532</td>\n",
       "      <td>14232</td>\n",
       "      <td>12702</td>\n",
       "      <td>10896</td>\n",
       "      <td>...</td>\n",
       "      <td>0</td>\n",
       "      <td>0</td>\n",
       "      <td>0</td>\n",
       "      <td>0</td>\n",
       "      <td>0</td>\n",
       "      <td>0</td>\n",
       "      <td>6</td>\n",
       "      <td>0</td>\n",
       "      <td>0</td>\n",
       "      <td>0</td>\n",
       "    </tr>\n",
       "    <tr>\n",
       "      <th>29.0</th>\n",
       "      <td>0</td>\n",
       "      <td>19943</td>\n",
       "      <td>19840</td>\n",
       "      <td>17003</td>\n",
       "      <td>14768</td>\n",
       "      <td>13290</td>\n",
       "      <td>11258</td>\n",
       "      <td>10092</td>\n",
       "      <td>8856</td>\n",
       "      <td>7650</td>\n",
       "      <td>...</td>\n",
       "      <td>0</td>\n",
       "      <td>4</td>\n",
       "      <td>0</td>\n",
       "      <td>0</td>\n",
       "      <td>0</td>\n",
       "      <td>0</td>\n",
       "      <td>0</td>\n",
       "      <td>0</td>\n",
       "      <td>0</td>\n",
       "      <td>0</td>\n",
       "    </tr>\n",
       "    <tr>\n",
       "      <th>30.0</th>\n",
       "      <td>0</td>\n",
       "      <td>465633</td>\n",
       "      <td>455713</td>\n",
       "      <td>365995</td>\n",
       "      <td>294503</td>\n",
       "      <td>241262</td>\n",
       "      <td>196568</td>\n",
       "      <td>163732</td>\n",
       "      <td>135424</td>\n",
       "      <td>113059</td>\n",
       "      <td>...</td>\n",
       "      <td>6</td>\n",
       "      <td>11</td>\n",
       "      <td>3</td>\n",
       "      <td>0</td>\n",
       "      <td>0</td>\n",
       "      <td>5</td>\n",
       "      <td>0</td>\n",
       "      <td>0</td>\n",
       "      <td>8</td>\n",
       "      <td>13</td>\n",
       "    </tr>\n",
       "    <tr>\n",
       "      <th>NaN</th>\n",
       "      <td>2076096</td>\n",
       "      <td>0</td>\n",
       "      <td>0</td>\n",
       "      <td>0</td>\n",
       "      <td>0</td>\n",
       "      <td>0</td>\n",
       "      <td>0</td>\n",
       "      <td>0</td>\n",
       "      <td>0</td>\n",
       "      <td>0</td>\n",
       "      <td>...</td>\n",
       "      <td>0</td>\n",
       "      <td>0</td>\n",
       "      <td>0</td>\n",
       "      <td>0</td>\n",
       "      <td>0</td>\n",
       "      <td>0</td>\n",
       "      <td>0</td>\n",
       "      <td>0</td>\n",
       "      <td>0</td>\n",
       "      <td>0</td>\n",
       "    </tr>\n",
       "  </tbody>\n",
       "</table>\n",
       "<p>32 rows × 99 columns</p>\n",
       "</div>"
      ],
      "text/plain": [
       "order_number                 1       2       3       4       5       6   \\\n",
       "days_since_prior_order                                                    \n",
       "0.0                           0   20536   20441   17984   16438   16046   \n",
       "1.0                           0   31674   29950   28010   27092   25533   \n",
       "2.0                           0   46454   46264   43902   40729   40907   \n",
       "3.0                           0   61637   63388   59996   57882   56183   \n",
       "4.0                           0   76733   78861   73540   70519   66569   \n",
       "5.0                           0   88999   91741   86503   81859   77583   \n",
       "6.0                           0  120681  122871  114644  106764  100756   \n",
       "7.0                           0  184802  181656  167597  157442  143628   \n",
       "8.0                           0  112324  110742  102217   94945   87611   \n",
       "9.0                           0   73676   75379   68513   65045   58933   \n",
       "10.0                          0   62037   62457   57676   51916   49463   \n",
       "11.0                          0   55561   55918   51974   45512   42542   \n",
       "12.0                          0   54604   56630   51043   44615   42591   \n",
       "13.0                          0   63962   66351   58478   54339   47725   \n",
       "14.0                          0   82109   79773   74714   67484   60476   \n",
       "15.0                          0   54492   53593   50229   44029   39497   \n",
       "16.0                          0   38887   39524   34481   30581   28286   \n",
       "17.0                          0   31942   32861   29823   26271   23860   \n",
       "18.0                          0   31615   30484   27305   24859   21999   \n",
       "19.0                          0   29890   31364   26501   23852   21441   \n",
       "20.0                          0   35489   35213   31767   28748   25526   \n",
       "21.0                          0   43945   44587   37647   32182   31429   \n",
       "22.0                          0   30037   29490   26582   23394   20486   \n",
       "23.0                          0   22950   24117   19794   17068   15570   \n",
       "24.0                          0   19287   19434   16898   15718   13536   \n",
       "25.0                          0   18759   19368   16264   14223   12605   \n",
       "26.0                          0   18449   19464   16067   14922   12991   \n",
       "27.0                          0   21333   22614   20202   18333   14454   \n",
       "28.0                          0   27969   28780   25260   20869   18116   \n",
       "29.0                          0   19943   19840   17003   14768   13290   \n",
       "30.0                          0  465633  455713  365995  294503  241262   \n",
       "NaN                     2076096       0       0       0       0       0   \n",
       "\n",
       "order_number                7       8       9       10  ...    90    91    92  \\\n",
       "days_since_prior_order                                  ...                     \n",
       "0.0                      14384   13890   12774   11460  ...  1195  1148  1040   \n",
       "1.0                      24996   22921   21783   21067  ...  2787  2801  2728   \n",
       "2.0                      38101   37519   35745   33830  ...  3623  3555  3314   \n",
       "3.0                      52869   49291   48295   47826  ...  3318  3237  2799   \n",
       "4.0                      62399   61143   59499   57700  ...  2342  2260  2490   \n",
       "5.0                      73584   70020   64468   63154  ...  1630  1630  1367   \n",
       "6.0                      95954   89752   87203   78634  ...   754   842   940   \n",
       "7.0                     137675  128423  120734  114769  ...   634   573   521   \n",
       "8.0                      81622   78760   71070   67567  ...   238   262   228   \n",
       "9.0                      54801   50593   47752   43483  ...   190    90    98   \n",
       "10.0                     43706   41110   38443   34916  ...    60   103   222   \n",
       "11.0                     40174   36884   33404   30830  ...    57    83   175   \n",
       "12.0                     38685   35331   33477   29857  ...    58    54    70   \n",
       "13.0                     44872   41268   38333   34275  ...    69    93    93   \n",
       "14.0                     54863   49237   46265   42381  ...    38     8    13   \n",
       "15.0                     35548   33879   29615   27757  ...    44    14    31   \n",
       "16.0                     25429   22407   22373   20587  ...    65    20     7   \n",
       "17.0                     20629   18592   17567   16012  ...    14     0    32   \n",
       "18.0                     19165   17597   16762   15066  ...     0     1    13   \n",
       "19.0                     19910   17867   15702   14316  ...     0     6     0   \n",
       "20.0                     23119   19785   17132   16038  ...    31    41     7   \n",
       "21.0                     26005   23502   20599   19549  ...    19     0    32   \n",
       "22.0                     18492   16947   15403   13864  ...     0     9     0   \n",
       "23.0                     13896   11557   11146    8681  ...    13     0     0   \n",
       "24.0                     12404   10803    9504    8252  ...     0     0     0   \n",
       "25.0                     10713    9214    8535    7797  ...     0     0     0   \n",
       "26.0                     11803    9902    8717    7911  ...     0     0     0   \n",
       "27.0                     12479   11797   10209    8594  ...    12     0     0   \n",
       "28.0                     16532   14232   12702   10896  ...     0     0     0   \n",
       "29.0                     11258   10092    8856    7650  ...     0     4     0   \n",
       "30.0                    196568  163732  135424  113059  ...     6    11     3   \n",
       "NaN                          0       0       0       0  ...     0     0     0   \n",
       "\n",
       "order_number              93    94    95    96    97    98    99  \n",
       "days_since_prior_order                                            \n",
       "0.0                      937  1134  1099  1041   883  1037   935  \n",
       "1.0                     2605  2606  2639  2436  2535  2633  2363  \n",
       "2.0                     3589  3319  3072  2985  3057  3091  2609  \n",
       "3.0                     3073  2902  2635  2658  2462  2168  2467  \n",
       "4.0                     2031  1800  2083  1918  1792  1695  1810  \n",
       "5.0                      983  1215  1220  1166   966   912   936  \n",
       "6.0                     1014   835   570   490   602   485   542  \n",
       "7.0                      440   602   421   420   378   419   322  \n",
       "8.0                      244   275   232   234   143   137    84  \n",
       "9.0                      101   146    91    67   102    66    65  \n",
       "10.0                      78    45   116     4   101    42    59  \n",
       "11.0                      55    68   126    63    64     1    19  \n",
       "12.0                      32    50    75    55    52     5    66  \n",
       "13.0                      80    85    24    27    61    83    68  \n",
       "14.0                      96    55    41    32    54    33     5  \n",
       "15.0                      25     6    23    20    17     7    17  \n",
       "16.0                       0    12     0    39    50    17    10  \n",
       "17.0                       0    16     7     4    23     0     5  \n",
       "18.0                       0    20     0    51     0     0    26  \n",
       "19.0                       0     0     0    21    14     0     0  \n",
       "20.0                       0     9     0     0     0     0     0  \n",
       "21.0                      12     0    19     0     0    12     0  \n",
       "22.0                       0     0     0     0     0     0     0  \n",
       "23.0                       0     0     9     0     0     0     0  \n",
       "24.0                       0     0     0     0     0     0     0  \n",
       "25.0                       0     0     0     0     0     0     0  \n",
       "26.0                       0     0     9     0     0     0     0  \n",
       "27.0                       0     0     0     0     0     0     0  \n",
       "28.0                       0     0     0     6     0     0     0  \n",
       "29.0                       0     0     0     0     0     0     0  \n",
       "30.0                       0     0     5     0     0     8    13  \n",
       "NaN                        0     0     0     0     0     0     0  \n",
       "\n",
       "[32 rows x 99 columns]"
      ]
     },
     "execution_count": 16,
     "metadata": {},
     "output_type": "execute_result"
    }
   ],
   "source": [
    "crosstab"
   ]
  },
  {
   "cell_type": "code",
   "execution_count": 17,
   "id": "cfa18412",
   "metadata": {},
   "outputs": [],
   "source": [
    "crosstab.to_clipboard()"
   ]
  },
  {
   "cell_type": "code",
   "execution_count": 25,
   "id": "071da570",
   "metadata": {},
   "outputs": [
    {
     "name": "stdout",
     "output_type": "stream",
     "text": [
      "<class 'pandas.core.series.Series'>\n",
      "RangeIndex: 32404859 entries, 0 to 32404858\n",
      "Series name: days_since_prior_order\n",
      "Non-Null Count     Dtype  \n",
      "--------------     -----  \n",
      "30328763 non-null  float32\n",
      "dtypes: float32(1)\n",
      "memory usage: 123.6 MB\n"
     ]
    }
   ],
   "source": [
    "IC_full_merge['days_since_prior_order'].info()"
   ]
  },
  {
   "cell_type": "code",
   "execution_count": null,
   "id": "537ce10d",
   "metadata": {},
   "outputs": [],
   "source": []
  },
  {
   "cell_type": "markdown",
   "id": "6f2a664b",
   "metadata": {},
   "source": [
    "# 2. PII Data Security Implications\n"
   ]
  },
  {
   "cell_type": "code",
   "execution_count": 5,
   "id": "84dce2b7",
   "metadata": {},
   "outputs": [
    {
     "name": "stdout",
     "output_type": "stream",
     "text": [
      "<class 'pandas.core.frame.DataFrame'>\n",
      "RangeIndex: 32404859 entries, 0 to 32404858\n",
      "Data columns (total 33 columns):\n",
      " #   Column                  Dtype         \n",
      "---  ------                  -----         \n",
      " 0   user_id                 int32         \n",
      " 1   First Name              object        \n",
      " 2   Surname                 object        \n",
      " 3   Gender                  object        \n",
      " 4   State                   object        \n",
      " 5   Age                     int64         \n",
      " 6   Date_joined             datetime64[ns]\n",
      " 7   Dependants              int64         \n",
      " 8   Family_status           object        \n",
      " 9   income                  int64         \n",
      " 10  product_id              int64         \n",
      " 11  product_name            object        \n",
      " 12  aisle_id                int64         \n",
      " 13  department_id           int64         \n",
      " 14  prices                  float64       \n",
      " 15  order_id                int32         \n",
      " 16  order_number            int8          \n",
      " 17  orders_day_of_week      int8          \n",
      " 18  order_time_of_day       int8          \n",
      " 19  days_since_prior_order  float16       \n",
      " 20  add_to_cart_order       int32         \n",
      " 21  reordered               int8          \n",
      " 22  price_range_loc         object        \n",
      " 23  busiest_day             object        \n",
      " 24  Busiest_days            object        \n",
      " 25  busiest_period_of_day   object        \n",
      " 26  max_order               int8          \n",
      " 27  loyalty_flag            object        \n",
      " 28  spender_average         float64       \n",
      " 29  spender_flag            object        \n",
      " 30  frequency_average       float16       \n",
      " 31  frequency_flag          object        \n",
      " 32  _merge                  category      \n",
      "dtypes: category(1), datetime64[ns](1), float16(2), float64(2), int32(3), int64(6), int8(5), object(13)\n",
      "memory usage: 6.0+ GB\n"
     ]
    }
   ],
   "source": [
    "#check types of columns\n",
    "\n",
    "IC_full_merge.info()"
   ]
  },
  {
   "cell_type": "markdown",
   "id": "47c814b6",
   "metadata": {},
   "source": [
    "This particular dataframe contains PII related information. It contains First and last name, gender, which state the customer lives in, how many dependants, age, and income. "
   ]
  },
  {
   "cell_type": "markdown",
   "id": "aa416261",
   "metadata": {},
   "source": [
    "# 3. Customer Behavior per Geographical Area"
   ]
  },
  {
   "cell_type": "markdown",
   "id": "3829abf9",
   "metadata": {},
   "source": [
    "Creating US regions where states are divided into regions"
   ]
  },
  {
   "cell_type": "code",
   "execution_count": 6,
   "id": "45e66a0b",
   "metadata": {},
   "outputs": [],
   "source": [
    "# create a Northeast region\n",
    "\n",
    "IC_full_merge.loc[(IC_full_merge['State']=='Maine') | \n",
    "              (IC_full_merge['State']=='New Hampshire')|\n",
    "              (IC_full_merge['State']=='Vermont') |\n",
    "              (IC_full_merge['State']=='Massachusetts') |\n",
    "              (IC_full_merge['State']=='Rhode Island') |\n",
    "              (IC_full_merge['State']=='Connecticut')|\n",
    "              (IC_full_merge['State']=='New York')|\n",
    "              (IC_full_merge['State']=='Pennsylvania')|\n",
    "              (IC_full_merge['State']=='New Jersey') , 'region']='Northeast'"
   ]
  },
  {
   "cell_type": "code",
   "execution_count": 7,
   "id": "c7025412",
   "metadata": {},
   "outputs": [],
   "source": [
    "# create a Midwest region\n",
    "\n",
    "IC_full_merge.loc[(IC_full_merge['State']=='Wisconsin') | \n",
    "              (IC_full_merge['State']=='Michigan')|\n",
    "              (IC_full_merge['State']=='Illinois') |\n",
    "              (IC_full_merge['State']=='Indiana') |\n",
    "              (IC_full_merge['State']=='Ohio') |\n",
    "              (IC_full_merge['State']=='North Dakota')|\n",
    "              (IC_full_merge['State']=='South Dakota')|\n",
    "              (IC_full_merge['State']=='Nebraska')|\n",
    "              (IC_full_merge['State']=='Kansas')|\n",
    "              (IC_full_merge['State']=='Minnesota')|\n",
    "              (IC_full_merge['State']=='Iowa')|\n",
    "              (IC_full_merge['State']=='Missouri') , 'region']='Midwest'"
   ]
  },
  {
   "cell_type": "code",
   "execution_count": 8,
   "id": "d872d96f",
   "metadata": {},
   "outputs": [],
   "source": [
    "# create a South region\n",
    "\n",
    "IC_full_merge.loc[(IC_full_merge['State']=='Delaware')|\n",
    "              (IC_full_merge['State']=='Maryland')|\n",
    "              (IC_full_merge['State']=='District of Columbia')|\n",
    "              (IC_full_merge['State']=='Virginia')|\n",
    "              (IC_full_merge['State']=='West Virginia')|\n",
    "              (IC_full_merge['State']=='North Carolina')|\n",
    "              (IC_full_merge['State']=='South Carolina')|\n",
    "              (IC_full_merge['State']=='Georgia')|\n",
    "              (IC_full_merge['State']=='Florida')|\n",
    "              (IC_full_merge['State']=='Kentucky')|\n",
    "              (IC_full_merge['State']=='Tennessee')|\n",
    "              (IC_full_merge['State']=='Mississippi')|\n",
    "              (IC_full_merge['State']=='Alabama')|\n",
    "              (IC_full_merge['State']=='Oklahoma')|\n",
    "              (IC_full_merge['State']=='Texas')|\n",
    "              (IC_full_merge['State']=='Arkansas')|\n",
    "              (IC_full_merge['State']=='Louisiana'), 'region']='South'"
   ]
  },
  {
   "cell_type": "code",
   "execution_count": 9,
   "id": "7f912251",
   "metadata": {},
   "outputs": [],
   "source": [
    "# create a West region\n",
    "\n",
    "IC_full_merge.loc[(IC_full_merge['State']=='Idaho')|\n",
    "              (IC_full_merge['State']=='Montana')|\n",
    "              (IC_full_merge['State']=='Wyoming')|\n",
    "              (IC_full_merge['State']=='Nevada')|\n",
    "              (IC_full_merge['State']=='Utah')|\n",
    "              (IC_full_merge['State']=='Colorado')|\n",
    "              (IC_full_merge['State']=='Arizona')|\n",
    "              (IC_full_merge['State']=='New Mexico')|\n",
    "              (IC_full_merge['State']=='Alaska')|\n",
    "              (IC_full_merge['State']=='Washington')|\n",
    "              (IC_full_merge['State']=='Oregon')|\n",
    "              (IC_full_merge['State']=='California')|\n",
    "              (IC_full_merge['State']=='Hawaii'), 'region']='West'"
   ]
  },
  {
   "cell_type": "code",
   "execution_count": 10,
   "id": "6062deac",
   "metadata": {},
   "outputs": [
    {
     "data": {
      "text/plain": [
       "region\n",
       "South        10791885\n",
       "West          8292913\n",
       "Midwest       7597325\n",
       "Northeast     5722736\n",
       "Name: count, dtype: int64"
      ]
     },
     "execution_count": 10,
     "metadata": {},
     "output_type": "execute_result"
    }
   ],
   "source": [
    "# value counts by regions\n",
    "IC_full_merge['region'].value_counts()"
   ]
  },
  {
   "cell_type": "code",
   "execution_count": 11,
   "id": "3a0d03ac",
   "metadata": {},
   "outputs": [
    {
     "data": {
      "text/plain": [
       "spender_flag\n",
       "low spender     31770614\n",
       "high spender      634245\n",
       "Name: count, dtype: int64"
      ]
     },
     "execution_count": 11,
     "metadata": {},
     "output_type": "execute_result"
    }
   ],
   "source": [
    "# frequency of values in 'region' column\n",
    "\n",
    "IC_full_merge['spender_flag'].value_counts(dropna=False)"
   ]
  },
  {
   "cell_type": "code",
   "execution_count": 12,
   "id": "47ee306c",
   "metadata": {},
   "outputs": [],
   "source": [
    "# crossing the variable region with the spender_flag 2\n",
    "crosstab = pd.crosstab(IC_full_merge['region'], IC_full_merge['spender_flag'], dropna = False)"
   ]
  },
  {
   "cell_type": "code",
   "execution_count": 13,
   "id": "1fcbf797",
   "metadata": {},
   "outputs": [
    {
     "data": {
      "text/html": [
       "<div>\n",
       "<style scoped>\n",
       "    .dataframe tbody tr th:only-of-type {\n",
       "        vertical-align: middle;\n",
       "    }\n",
       "\n",
       "    .dataframe tbody tr th {\n",
       "        vertical-align: top;\n",
       "    }\n",
       "\n",
       "    .dataframe thead th {\n",
       "        text-align: right;\n",
       "    }\n",
       "</style>\n",
       "<table border=\"1\" class=\"dataframe\">\n",
       "  <thead>\n",
       "    <tr style=\"text-align: right;\">\n",
       "      <th>spender_flag</th>\n",
       "      <th>high spender</th>\n",
       "      <th>low spender</th>\n",
       "    </tr>\n",
       "    <tr>\n",
       "      <th>region</th>\n",
       "      <th></th>\n",
       "      <th></th>\n",
       "    </tr>\n",
       "  </thead>\n",
       "  <tbody>\n",
       "    <tr>\n",
       "      <th>Midwest</th>\n",
       "      <td>155975</td>\n",
       "      <td>7441350</td>\n",
       "    </tr>\n",
       "    <tr>\n",
       "      <th>Northeast</th>\n",
       "      <td>108225</td>\n",
       "      <td>5614511</td>\n",
       "    </tr>\n",
       "    <tr>\n",
       "      <th>South</th>\n",
       "      <td>209691</td>\n",
       "      <td>10582194</td>\n",
       "    </tr>\n",
       "    <tr>\n",
       "      <th>West</th>\n",
       "      <td>160354</td>\n",
       "      <td>8132559</td>\n",
       "    </tr>\n",
       "  </tbody>\n",
       "</table>\n",
       "</div>"
      ],
      "text/plain": [
       "spender_flag  high spender  low spender\n",
       "region                                 \n",
       "Midwest             155975      7441350\n",
       "Northeast           108225      5614511\n",
       "South               209691     10582194\n",
       "West                160354      8132559"
      ]
     },
     "execution_count": 13,
     "metadata": {},
     "output_type": "execute_result"
    }
   ],
   "source": [
    "crosstab"
   ]
  },
  {
   "cell_type": "code",
   "execution_count": 14,
   "id": "8a4c0d18",
   "metadata": {},
   "outputs": [],
   "source": [
    "# export crossing data to excel\n",
    "crosstab.to_clipboard()"
   ]
  },
  {
   "cell_type": "markdown",
   "id": "770c53bd",
   "metadata": {},
   "source": [
    "Excel Sheet Final Data Spending Habits:\n",
    "\n",
    "region\t    high spender  low spender\ttotal spenders\t% high spenders\t% low spenders\t% total spenders by region\n",
    "Midwest\t    155,975\t      7,441,350\t    7,597,325\t      2.05\t           97.95\t         23.45\n",
    "Northeast\t108,225\t      5,614,511\t    5,722,736\t      1.89\t           98.11\t         17.66\n",
    "South\t    209,691\t      10,582,194\t10,791,885\t      1.94\t           98.06\t         33.30\n",
    "West\t    160,354\t      8,132,559\t    8,292,913\t      1.93\t           98.07\t         25.59\n",
    "\t\t                      TOTAL:\t32,404,859\t\t\t\n",
    "\n",
    "\n",
    "FINDINGS:\n",
    "1. The South region has the highest percentage of total spenders overall in the US\n",
    "2. The Midwest region has the highest percentage of high spenders in the US\n",
    "3. The Northeast region has the highest percentage of low spenders in the US\n",
    "4. The Northeast regioan has the lowest percentage of high spenders in the US\n",
    "5. The Midwest has the lowest percentage of low spenders in the US\n"
   ]
  },
  {
   "cell_type": "markdown",
   "id": "aa7e975a",
   "metadata": {},
   "source": [
    "# 4. Identifying Low Activity Customers"
   ]
  },
  {
   "cell_type": "code",
   "execution_count": 15,
   "id": "ad5c2df6",
   "metadata": {},
   "outputs": [],
   "source": [
    "# Create an exclusion flag for low-activity customers (customers with less than 5 orders) and exclude them from the data\n",
    "\n",
    "IC_full_merge.loc[IC_full_merge['max_order']<5,'exclusion_flag']='low_activity_cust'"
   ]
  },
  {
   "cell_type": "code",
   "execution_count": 16,
   "id": "98dcc024",
   "metadata": {},
   "outputs": [
    {
     "data": {
      "text/plain": [
       "exclusion_flag\n",
       "nan                  30964564\n",
       "low_activity_cust     1440295\n",
       "Name: count, dtype: int64"
      ]
     },
     "execution_count": 16,
     "metadata": {},
     "output_type": "execute_result"
    }
   ],
   "source": [
    "IC_full_merge['exclusion_flag'].value_counts(dropna=False)"
   ]
  },
  {
   "cell_type": "code",
   "execution_count": 17,
   "id": "81586f51",
   "metadata": {},
   "outputs": [],
   "source": [
    "# create new dataframe excluding low activity customers\n",
    "\n",
    "IC_full_merge2=IC_full_merge[IC_full_merge['exclusion_flag'] !='low_activity_cust']"
   ]
  },
  {
   "cell_type": "code",
   "execution_count": 18,
   "id": "92e19b7c",
   "metadata": {},
   "outputs": [
    {
     "data": {
      "text/plain": [
       "exclusion_flag\n",
       "nan    30964564\n",
       "Name: count, dtype: int64"
      ]
     },
     "execution_count": 18,
     "metadata": {},
     "output_type": "execute_result"
    }
   ],
   "source": [
    "IC_full_merge2['exclusion_flag'].value_counts()"
   ]
  },
  {
   "cell_type": "code",
   "execution_count": 19,
   "id": "35165949",
   "metadata": {},
   "outputs": [
    {
     "data": {
      "text/plain": [
       "(30964564, 35)"
      ]
     },
     "execution_count": 19,
     "metadata": {},
     "output_type": "execute_result"
    }
   ],
   "source": [
    "IC_full_merge2.shape"
   ]
  },
  {
   "cell_type": "code",
   "execution_count": 20,
   "id": "1dde0de9",
   "metadata": {},
   "outputs": [
    {
     "data": {
      "text/plain": [
       "exclusion_flag\n",
       "nan                  30964564\n",
       "low_activity_cust     1440295\n",
       "Name: count, dtype: int64"
      ]
     },
     "execution_count": 20,
     "metadata": {},
     "output_type": "execute_result"
    }
   ],
   "source": [
    "IC_full_merge['exclusion_flag'].value_counts()"
   ]
  },
  {
   "cell_type": "code",
   "execution_count": 21,
   "id": "cd76ef0b",
   "metadata": {},
   "outputs": [
    {
     "data": {
      "text/plain": [
       "(32404859, 35)"
      ]
     },
     "execution_count": 21,
     "metadata": {},
     "output_type": "execute_result"
    }
   ],
   "source": [
    "IC_full_merge.shape"
   ]
  },
  {
   "cell_type": "code",
   "execution_count": 21,
   "id": "28c698b2",
   "metadata": {},
   "outputs": [],
   "source": [
    "#export the new data frame excluding low-activity customers. \n",
    "IC_full_merge2.to_pickle(os.path.join(path, '02 Data', 'Prepared Data', 'IC_full_merge2.pkl'))"
   ]
  },
  {
   "cell_type": "markdown",
   "id": "61c3cddb",
   "metadata": {},
   "source": [
    "# 5. Customer Profiling for Marketing Strategies"
   ]
  },
  {
   "cell_type": "markdown",
   "id": "7951e55e",
   "metadata": {},
   "source": [
    "Create a profiling variable based on age, income, certain goods in the “department_id” column, and number of dependents. (Hint: As an example, try thinking of what characteristics would lead you to the profile “Single adult” or “Young parent.”)"
   ]
  },
  {
   "cell_type": "markdown",
   "id": "b225079b",
   "metadata": {},
   "source": [
    "### Profiling Age"
   ]
  },
  {
   "cell_type": "code",
   "execution_count": 22,
   "id": "00f01f12",
   "metadata": {},
   "outputs": [
    {
     "data": {
      "text/plain": [
       "count    3.096456e+07\n",
       "mean     4.946803e+01\n",
       "std      1.848528e+01\n",
       "min      1.800000e+01\n",
       "25%      3.300000e+01\n",
       "50%      4.900000e+01\n",
       "75%      6.500000e+01\n",
       "max      8.100000e+01\n",
       "Name: Age, dtype: float64"
      ]
     },
     "execution_count": 22,
     "metadata": {},
     "output_type": "execute_result"
    }
   ],
   "source": [
    "IC_full_merge2['Age'].describe()"
   ]
  },
  {
   "cell_type": "code",
   "execution_count": 24,
   "id": "3a5dbe48",
   "metadata": {},
   "outputs": [],
   "source": [
    "# create an age_group based on ages from 0 to 33 \n",
    "IC_full_merge2.loc[IC_full_merge2['Age'] <33, 'age_group'] = 'Young Adult'"
   ]
  },
  {
   "cell_type": "code",
   "execution_count": 25,
   "id": "745a3d22",
   "metadata": {},
   "outputs": [],
   "source": [
    "# create an age_group based on ages from 33 to 65 \n",
    "IC_full_merge2.loc[(IC_full_merge['Age']>=33) & (IC_full_merge['Age']<65),'age_group']= 'Adult'"
   ]
  },
  {
   "cell_type": "code",
   "execution_count": 26,
   "id": "d528b624",
   "metadata": {},
   "outputs": [],
   "source": [
    "# create an age_group based on ages from 65 and up\n",
    "\n",
    "IC_full_merge2.loc[IC_full_merge['Age']>=65,'age_group']= 'Senior Adult'"
   ]
  },
  {
   "cell_type": "code",
   "execution_count": 27,
   "id": "c9f0c896",
   "metadata": {},
   "outputs": [
    {
     "data": {
      "text/plain": [
       "age_group\n",
       "Adult           15483886\n",
       "Senior Adult     8195544\n",
       "Young Adult      7285134\n",
       "Name: count, dtype: int64"
      ]
     },
     "execution_count": 27,
     "metadata": {},
     "output_type": "execute_result"
    }
   ],
   "source": [
    "# check the value count\n",
    "\n",
    "IC_full_merge2['age_group'].value_counts(dropna=False)"
   ]
  },
  {
   "cell_type": "code",
   "execution_count": 36,
   "id": "c487b8f9",
   "metadata": {},
   "outputs": [
    {
     "data": {
      "image/png": "[encoded data removed]",
      "text/plain": [
       "<Figure size 640x480 with 1 Axes>"
      ]
     },
     "metadata": {},
     "output_type": "display_data"
    }
   ],
   "source": [
    "pie_age_gorup = IC_full_merge2['age_group'].value_counts().plot.pie(autopct='%1.1f%%', title='Age Group Breakdown')"
   ]
  },
  {
   "cell_type": "code",
   "execution_count": 38,
   "id": "00007ae8",
   "metadata": {},
   "outputs": [],
   "source": [
    "# export image\n",
    "\n",
    "pie_age_gorup.figure.savefig(os.path.join(path, '04 Analysis', 'Visualizations', 'Profiliing_age_pie.png'))"
   ]
  },
  {
   "cell_type": "markdown",
   "id": "13a226dc",
   "metadata": {},
   "source": [
    "### Profiling Income"
   ]
  },
  {
   "cell_type": "code",
   "execution_count": 28,
   "id": "9d9f320d",
   "metadata": {},
   "outputs": [
    {
     "data": {
      "text/plain": [
       "count    3.096456e+07\n",
       "mean     9.967587e+04\n",
       "std      4.314187e+04\n",
       "min      2.590300e+04\n",
       "25%      6.729200e+04\n",
       "50%      9.676500e+04\n",
       "75%      1.281020e+05\n",
       "max      5.939010e+05\n",
       "Name: income, dtype: float64"
      ]
     },
     "execution_count": 28,
     "metadata": {},
     "output_type": "execute_result"
    }
   ],
   "source": [
    "IC_full_merge2['income'].describe()"
   ]
  },
  {
   "cell_type": "code",
   "execution_count": 30,
   "id": "a141bf5d",
   "metadata": {},
   "outputs": [],
   "source": [
    "# create income_level column based on income less than 67292\n",
    "\n",
    "IC_full_merge2.loc[IC_full_merge2['income']<67292,'income_level']= 'Low income'"
   ]
  },
  {
   "cell_type": "code",
   "execution_count": 31,
   "id": "fb43b5fb",
   "metadata": {},
   "outputs": [],
   "source": [
    "# create income_level column based on income between 67292 and 128102\n",
    "\n",
    "IC_full_merge2.loc[(IC_full_merge2['income']>=67292) & (IC_full_merge2['income']<128102),'income_level']= 'Median income'"
   ]
  },
  {
   "cell_type": "code",
   "execution_count": 32,
   "id": "24e52890",
   "metadata": {},
   "outputs": [],
   "source": [
    "# create income_level column based on income greater than 128102\n",
    "\n",
    "IC_full_merge2.loc[IC_full_merge2['income']>=128102,'income_level']= 'High income'"
   ]
  },
  {
   "cell_type": "code",
   "execution_count": 33,
   "id": "167b8a9d",
   "metadata": {},
   "outputs": [
    {
     "data": {
      "text/plain": [
       "income_level\n",
       "Median income    15482298\n",
       "High income       7741261\n",
       "Low income        7741005\n",
       "Name: count, dtype: int64"
      ]
     },
     "execution_count": 33,
     "metadata": {},
     "output_type": "execute_result"
    }
   ],
   "source": [
    "# check the value count\n",
    "\n",
    "IC_full_merge2['income_level'].value_counts()"
   ]
  },
  {
   "cell_type": "code",
   "execution_count": 34,
   "id": "b0212a87",
   "metadata": {},
   "outputs": [
    {
     "data": {
      "text/plain": [
       "(30964564,)"
      ]
     },
     "execution_count": 34,
     "metadata": {},
     "output_type": "execute_result"
    }
   ],
   "source": [
    "IC_full_merge2['income_level'].shape"
   ]
  },
  {
   "cell_type": "code",
   "execution_count": 39,
   "id": "0c625484",
   "metadata": {},
   "outputs": [
    {
     "data": {
      "image/png": "[encoded data removed]",
      "text/plain": [
       "<Figure size 640x480 with 1 Axes>"
      ]
     },
     "metadata": {},
     "output_type": "display_data"
    }
   ],
   "source": [
    "pie_income_level = IC_full_merge2['income_level'].value_counts().plot.pie(autopct='%1.1f%%', title='Income Types Breakdown')"
   ]
  },
  {
   "cell_type": "code",
   "execution_count": 40,
   "id": "7353dec2",
   "metadata": {},
   "outputs": [],
   "source": [
    "# save image\n",
    "\n",
    "pie_income_level.figure.savefig(os.path.join(path, '04 Analysis', 'Visualizations', 'Profiliing_income_pie.png'))"
   ]
  },
  {
   "cell_type": "markdown",
   "id": "2ca7fde6",
   "metadata": {},
   "source": [
    "### Profiling Number of Dependants"
   ]
  },
  {
   "cell_type": "code",
   "execution_count": 42,
   "id": "5c14d7ca",
   "metadata": {},
   "outputs": [
    {
     "data": {
      "text/plain": [
       "count    3.096456e+07\n",
       "mean     1.501819e+00\n",
       "std      1.118896e+00\n",
       "min      0.000000e+00\n",
       "25%      1.000000e+00\n",
       "50%      2.000000e+00\n",
       "75%      3.000000e+00\n",
       "max      3.000000e+00\n",
       "Name: Dependants, dtype: float64"
      ]
     },
     "execution_count": 42,
     "metadata": {},
     "output_type": "execute_result"
    }
   ],
   "source": [
    "IC_full_merge2['Dependants'].describe()"
   ]
  },
  {
   "cell_type": "code",
   "execution_count": 44,
   "id": "493704fc",
   "metadata": {},
   "outputs": [],
   "source": [
    "# create dependants_qty column based on 1 dependant\n",
    "\n",
    "IC_full_merge2.loc[IC_full_merge2['Dependants'] == 1, 'dependants_qty'] = 1"
   ]
  },
  {
   "cell_type": "code",
   "execution_count": 45,
   "id": "df4fe98a",
   "metadata": {},
   "outputs": [],
   "source": [
    "# create a dependants_qty column based on 2 dependants\n",
    "\n",
    "IC_full_merge2.loc[IC_full_merge2['Dependants'] == 2, 'dependants_qty'] = 2"
   ]
  },
  {
   "cell_type": "code",
   "execution_count": 46,
   "id": "07b30f89",
   "metadata": {},
   "outputs": [],
   "source": [
    "# create a dependants_qty column based on 3 dependants\n",
    "\n",
    "IC_full_merge2.loc[IC_full_merge2['Dependants'] == 3, 'dependants_qty'] = 3"
   ]
  },
  {
   "cell_type": "code",
   "execution_count": 47,
   "id": "6ebbb1bb",
   "metadata": {},
   "outputs": [
    {
     "data": {
      "text/plain": [
       "dependants_qty\n",
       "3.0    7772516\n",
       "2.0    7733261\n",
       "1.0    7719106\n",
       "Name: count, dtype: int64"
      ]
     },
     "execution_count": 47,
     "metadata": {},
     "output_type": "execute_result"
    }
   ],
   "source": [
    "# check the value count\n",
    "\n",
    "IC_full_merge2['dependants_qty'].value_counts()"
   ]
  },
  {
   "cell_type": "code",
   "execution_count": 48,
   "id": "a5e0659c",
   "metadata": {},
   "outputs": [
    {
     "data": {
      "image/png": "[encoded data removed]",
      "text/plain": [
       "<Figure size 640x480 with 1 Axes>"
      ]
     },
     "metadata": {},
     "output_type": "display_data"
    }
   ],
   "source": [
    "pie_dependants_qty = IC_full_merge2['dependants_qty'].value_counts().plot.pie(autopct='%1.1f%%', title='Share of Dependants')"
   ]
  },
  {
   "cell_type": "code",
   "execution_count": 49,
   "id": "3288dcb4",
   "metadata": {},
   "outputs": [],
   "source": [
    "# save image\n",
    "\n",
    "pie_dependants_qty.figure.savefig(os.path.join(path, '04 Analysis', 'Visualizations', 'Profiliing_dependants_pie.png'))"
   ]
  },
  {
   "cell_type": "markdown",
   "id": "fe78d822",
   "metadata": {},
   "source": [
    "### Profiling Department id goods"
   ]
  },
  {
   "cell_type": "code",
   "execution_count": 71,
   "id": "73dead46",
   "metadata": {},
   "outputs": [
    {
     "data": {
      "text/html": [
       "<div>\n",
       "<style scoped>\n",
       "    .dataframe tbody tr th:only-of-type {\n",
       "        vertical-align: middle;\n",
       "    }\n",
       "\n",
       "    .dataframe tbody tr th {\n",
       "        vertical-align: top;\n",
       "    }\n",
       "\n",
       "    .dataframe thead th {\n",
       "        text-align: right;\n",
       "    }\n",
       "</style>\n",
       "<table border=\"1\" class=\"dataframe\">\n",
       "  <thead>\n",
       "    <tr style=\"text-align: right;\">\n",
       "      <th></th>\n",
       "      <th>product_name</th>\n",
       "      <th>department_id</th>\n",
       "      <th>orders_day_of_week</th>\n",
       "    </tr>\n",
       "  </thead>\n",
       "  <tbody>\n",
       "    <tr>\n",
       "      <th>0</th>\n",
       "      <td>Soda</td>\n",
       "      <td>7</td>\n",
       "      <td>1</td>\n",
       "    </tr>\n",
       "    <tr>\n",
       "      <th>1</th>\n",
       "      <td>Soda</td>\n",
       "      <td>7</td>\n",
       "      <td>5</td>\n",
       "    </tr>\n",
       "    <tr>\n",
       "      <th>2</th>\n",
       "      <td>Soda</td>\n",
       "      <td>7</td>\n",
       "      <td>1</td>\n",
       "    </tr>\n",
       "    <tr>\n",
       "      <th>3</th>\n",
       "      <td>Clementines</td>\n",
       "      <td>4</td>\n",
       "      <td>2</td>\n",
       "    </tr>\n",
       "    <tr>\n",
       "      <th>4</th>\n",
       "      <td>Clementines</td>\n",
       "      <td>4</td>\n",
       "      <td>3</td>\n",
       "    </tr>\n",
       "    <tr>\n",
       "      <th>...</th>\n",
       "      <td>...</td>\n",
       "      <td>...</td>\n",
       "      <td>...</td>\n",
       "    </tr>\n",
       "    <tr>\n",
       "      <th>32404813</th>\n",
       "      <td>Fresh Mint Toothpaste</td>\n",
       "      <td>11</td>\n",
       "      <td>0</td>\n",
       "    </tr>\n",
       "    <tr>\n",
       "      <th>32404814</th>\n",
       "      <td>Fresh Mint Toothpaste</td>\n",
       "      <td>11</td>\n",
       "      <td>5</td>\n",
       "    </tr>\n",
       "    <tr>\n",
       "      <th>32404815</th>\n",
       "      <td>Fresh Mint Toothpaste</td>\n",
       "      <td>11</td>\n",
       "      <td>6</td>\n",
       "    </tr>\n",
       "    <tr>\n",
       "      <th>32404816</th>\n",
       "      <td>Favorites Super Moist Butter Recipe Yellow Cak...</td>\n",
       "      <td>13</td>\n",
       "      <td>6</td>\n",
       "    </tr>\n",
       "    <tr>\n",
       "      <th>32404817</th>\n",
       "      <td>Puffs Simply White Cheddar Cheese Flavored Snacks</td>\n",
       "      <td>19</td>\n",
       "      <td>5</td>\n",
       "    </tr>\n",
       "  </tbody>\n",
       "</table>\n",
       "<p>30964564 rows × 3 columns</p>\n",
       "</div>"
      ],
      "text/plain": [
       "                                               product_name  department_id  \\\n",
       "0                                                      Soda              7   \n",
       "1                                                      Soda              7   \n",
       "2                                                      Soda              7   \n",
       "3                                               Clementines              4   \n",
       "4                                               Clementines              4   \n",
       "...                                                     ...            ...   \n",
       "32404813                              Fresh Mint Toothpaste             11   \n",
       "32404814                              Fresh Mint Toothpaste             11   \n",
       "32404815                              Fresh Mint Toothpaste             11   \n",
       "32404816  Favorites Super Moist Butter Recipe Yellow Cak...             13   \n",
       "32404817  Puffs Simply White Cheddar Cheese Flavored Snacks             19   \n",
       "\n",
       "          orders_day_of_week  \n",
       "0                          1  \n",
       "1                          5  \n",
       "2                          1  \n",
       "3                          2  \n",
       "4                          3  \n",
       "...                      ...  \n",
       "32404813                   0  \n",
       "32404814                   5  \n",
       "32404815                   6  \n",
       "32404816                   6  \n",
       "32404817                   5  \n",
       "\n",
       "[30964564 rows x 3 columns]"
      ]
     },
     "execution_count": 71,
     "metadata": {},
     "output_type": "execute_result"
    }
   ],
   "source": [
    "# create a profiling table in reference for aggregation \n",
    "\n",
    "IC_full_merge2.loc[:,[\"product_name\", \"department_id\", \"orders_day_of_week\"]]"
   ]
  },
  {
   "cell_type": "code",
   "execution_count": 50,
   "id": "d19738dd",
   "metadata": {},
   "outputs": [
    {
     "data": {
      "text/html": [
       "<div>\n",
       "<style scoped>\n",
       "    .dataframe tbody tr th:only-of-type {\n",
       "        vertical-align: middle;\n",
       "    }\n",
       "\n",
       "    .dataframe tbody tr th {\n",
       "        vertical-align: top;\n",
       "    }\n",
       "\n",
       "    .dataframe thead tr th {\n",
       "        text-align: left;\n",
       "    }\n",
       "\n",
       "    .dataframe thead tr:last-of-type th {\n",
       "        text-align: right;\n",
       "    }\n",
       "</style>\n",
       "<table border=\"1\" class=\"dataframe\">\n",
       "  <thead>\n",
       "    <tr>\n",
       "      <th></th>\n",
       "      <th colspan=\"3\" halign=\"left\">orders_day_of_week</th>\n",
       "    </tr>\n",
       "    <tr>\n",
       "      <th></th>\n",
       "      <th>mean</th>\n",
       "      <th>min</th>\n",
       "      <th>max</th>\n",
       "    </tr>\n",
       "    <tr>\n",
       "      <th>department_id</th>\n",
       "      <th></th>\n",
       "      <th></th>\n",
       "      <th></th>\n",
       "    </tr>\n",
       "  </thead>\n",
       "  <tbody>\n",
       "    <tr>\n",
       "      <th>1</th>\n",
       "      <td>2.792869</td>\n",
       "      <td>0</td>\n",
       "      <td>6</td>\n",
       "    </tr>\n",
       "    <tr>\n",
       "      <th>2</th>\n",
       "      <td>2.853012</td>\n",
       "      <td>0</td>\n",
       "      <td>6</td>\n",
       "    </tr>\n",
       "    <tr>\n",
       "      <th>3</th>\n",
       "      <td>2.745236</td>\n",
       "      <td>0</td>\n",
       "      <td>6</td>\n",
       "    </tr>\n",
       "    <tr>\n",
       "      <th>4</th>\n",
       "      <td>2.687693</td>\n",
       "      <td>0</td>\n",
       "      <td>6</td>\n",
       "    </tr>\n",
       "    <tr>\n",
       "      <th>5</th>\n",
       "      <td>3.165253</td>\n",
       "      <td>0</td>\n",
       "      <td>6</td>\n",
       "    </tr>\n",
       "    <tr>\n",
       "      <th>6</th>\n",
       "      <td>2.692466</td>\n",
       "      <td>0</td>\n",
       "      <td>6</td>\n",
       "    </tr>\n",
       "    <tr>\n",
       "      <th>7</th>\n",
       "      <td>2.807342</td>\n",
       "      <td>0</td>\n",
       "      <td>6</td>\n",
       "    </tr>\n",
       "    <tr>\n",
       "      <th>8</th>\n",
       "      <td>2.934730</td>\n",
       "      <td>0</td>\n",
       "      <td>6</td>\n",
       "    </tr>\n",
       "    <tr>\n",
       "      <th>9</th>\n",
       "      <td>2.693114</td>\n",
       "      <td>0</td>\n",
       "      <td>6</td>\n",
       "    </tr>\n",
       "    <tr>\n",
       "      <th>10</th>\n",
       "      <td>2.761532</td>\n",
       "      <td>0</td>\n",
       "      <td>6</td>\n",
       "    </tr>\n",
       "    <tr>\n",
       "      <th>11</th>\n",
       "      <td>2.817910</td>\n",
       "      <td>0</td>\n",
       "      <td>6</td>\n",
       "    </tr>\n",
       "    <tr>\n",
       "      <th>12</th>\n",
       "      <td>2.720062</td>\n",
       "      <td>0</td>\n",
       "      <td>6</td>\n",
       "    </tr>\n",
       "    <tr>\n",
       "      <th>13</th>\n",
       "      <td>2.812745</td>\n",
       "      <td>0</td>\n",
       "      <td>6</td>\n",
       "    </tr>\n",
       "    <tr>\n",
       "      <th>14</th>\n",
       "      <td>2.733453</td>\n",
       "      <td>0</td>\n",
       "      <td>6</td>\n",
       "    </tr>\n",
       "    <tr>\n",
       "      <th>15</th>\n",
       "      <td>2.710028</td>\n",
       "      <td>0</td>\n",
       "      <td>6</td>\n",
       "    </tr>\n",
       "    <tr>\n",
       "      <th>16</th>\n",
       "      <td>2.742587</td>\n",
       "      <td>0</td>\n",
       "      <td>6</td>\n",
       "    </tr>\n",
       "    <tr>\n",
       "      <th>17</th>\n",
       "      <td>2.835935</td>\n",
       "      <td>0</td>\n",
       "      <td>6</td>\n",
       "    </tr>\n",
       "    <tr>\n",
       "      <th>18</th>\n",
       "      <td>2.713160</td>\n",
       "      <td>0</td>\n",
       "      <td>6</td>\n",
       "    </tr>\n",
       "    <tr>\n",
       "      <th>19</th>\n",
       "      <td>2.753274</td>\n",
       "      <td>0</td>\n",
       "      <td>6</td>\n",
       "    </tr>\n",
       "    <tr>\n",
       "      <th>20</th>\n",
       "      <td>2.708570</td>\n",
       "      <td>0</td>\n",
       "      <td>6</td>\n",
       "    </tr>\n",
       "    <tr>\n",
       "      <th>21</th>\n",
       "      <td>2.804008</td>\n",
       "      <td>0</td>\n",
       "      <td>6</td>\n",
       "    </tr>\n",
       "  </tbody>\n",
       "</table>\n",
       "</div>"
      ],
      "text/plain": [
       "              orders_day_of_week        \n",
       "                            mean min max\n",
       "department_id                           \n",
       "1                       2.792869   0   6\n",
       "2                       2.853012   0   6\n",
       "3                       2.745236   0   6\n",
       "4                       2.687693   0   6\n",
       "5                       3.165253   0   6\n",
       "6                       2.692466   0   6\n",
       "7                       2.807342   0   6\n",
       "8                       2.934730   0   6\n",
       "9                       2.693114   0   6\n",
       "10                      2.761532   0   6\n",
       "11                      2.817910   0   6\n",
       "12                      2.720062   0   6\n",
       "13                      2.812745   0   6\n",
       "14                      2.733453   0   6\n",
       "15                      2.710028   0   6\n",
       "16                      2.742587   0   6\n",
       "17                      2.835935   0   6\n",
       "18                      2.713160   0   6\n",
       "19                      2.753274   0   6\n",
       "20                      2.708570   0   6\n",
       "21                      2.804008   0   6"
      ]
     },
     "execution_count": 50,
     "metadata": {},
     "output_type": "execute_result"
    }
   ],
   "source": [
    "IC_full_merge2.groupby('department_id').agg({'orders_day_of_week': ['mean', 'min', 'max']})"
   ]
  },
  {
   "cell_type": "code",
   "execution_count": 53,
   "id": "eb1649c5",
   "metadata": {},
   "outputs": [
    {
     "data": {
      "text/plain": [
       "orders_day_of_week\n",
       "0    5908610\n",
       "1    5411686\n",
       "6    4291304\n",
       "5    4033729\n",
       "2    4024706\n",
       "3    3669535\n",
       "4    3624994\n",
       "Name: count, dtype: int64"
      ]
     },
     "execution_count": 53,
     "metadata": {},
     "output_type": "execute_result"
    }
   ],
   "source": [
    "IC_full_merge2['orders_day_of_week'].value_counts()"
   ]
  },
  {
   "cell_type": "code",
   "execution_count": 58,
   "id": "95c509d0",
   "metadata": {},
   "outputs": [
    {
     "data": {
      "image/png": "[encoded data removed]",
      "text/plain": [
       "<Figure size 640x480 with 1 Axes>"
      ]
     },
     "metadata": {},
     "output_type": "display_data"
    }
   ],
   "source": [
    "# creating a bar chart to visualize orders per day of the week\n",
    "\n",
    "plt.title('Weekly Orders Quantities')\n",
    "\n",
    "plt.ylabel('Orders Quantity')\n",
    "\n",
    "plt.xlabel('Orders day of week')\n",
    "\n",
    "weekly_orders = IC_full_merge2['orders_day_of_week'].value_counts().sort_index().plot.bar()"
   ]
  },
  {
   "cell_type": "code",
   "execution_count": 59,
   "id": "de82c7c2",
   "metadata": {},
   "outputs": [],
   "source": [
    "# save image\n",
    "\n",
    "weekly_orders.figure.savefig(os.path.join(path, '04 Analysis', 'Visualizations', 'Profiliing_weekly_orders_bar.png'))"
   ]
  },
  {
   "cell_type": "code",
   "execution_count": 60,
   "id": "3fca9c05",
   "metadata": {},
   "outputs": [],
   "source": [
    "# create profile variables \n",
    "\n",
    "def profile_variable(row):\n",
    "\n",
    " if (row['Age'] <33) and (row['income'] <67292) and (row ['Dependants'] ==1):\n",
    "    return 'Young Adult, Low income, 1 Dependants'\n",
    " elif (row['Age'] <33) and (row['income'] <67292) and (row ['Dependants'] ==2):\n",
    "    return 'Young Adult, Low income, 2 Dependants'\n",
    " elif (row['Age'] <33) and (row['income'] <67292) and (row ['Dependants'] ==3):\n",
    "    return 'Young Adult, Low income, 3 Dependants'\n",
    " elif (row['Age'] <33) and (row['income'] >=67292) and (row['income'] <128102) and (row ['Dependants'] ==1):\n",
    "    return 'Young Adult, Median income, 1 Dependants'\n",
    " elif (row['Age'] <33) and (row['income'] >=67292) and (row['income'] <128102) and (row ['Dependants'] ==2):\n",
    "    return 'Young Adult, Median income, 2 Dependants'\n",
    " elif (row['Age'] <33) and (row['income'] >=67292) and (row['income'] <128102) and (row ['Dependants'] ==3):\n",
    "    return 'Young Adult, Median income, 3 Dependants'\n",
    " elif (row['Age'] <33) and (row['income'] >=128102) and (row ['Dependants'] ==1):\n",
    "    return 'Young Adult, High income, 1 Dependants'\n",
    " elif (row['Age'] <33) and (row['income'] >=128102) and (row ['Dependants'] ==2):\n",
    "    return 'Young Adult, High income, 2 Dependants'\n",
    " elif (row['Age'] <33) and (row['income'] >=128102) and (row ['Dependants'] ==3):\n",
    "    return 'Young Adult, High income, 3 Dependants'\n",
    " elif (row['Age'] >=33) and (row['Age'] <65) and (row['income'] <67292) and (row ['Dependants'] ==1):\n",
    "    return 'Adult, Low income, 1 Dependants'\n",
    " elif (row['Age'] >=33) and (row['Age'] <65) and (row['income'] <67292) and (row ['Dependants'] ==2):\n",
    "    return 'Adult, Low income, 2 Dependants'\n",
    " elif (row['Age'] >=33) and (row['Age'] <65) and (row['income'] <67292) and (row ['Dependants'] ==3):\n",
    "    return 'Adult, Low income, 3 Dependants'\n",
    " elif (row['Age'] >=33) and (row['Age'] <65) and (row['income'] >=67292) and (row['income'] <128102) and (row ['Dependants'] ==1):\n",
    "    return 'Adult, Median income, 1 Dependants'\n",
    " elif (row['Age'] >=33) and (row['Age'] <65) and (row['income'] >=67292) and (row['income'] <128102) and (row ['Dependants'] ==2):\n",
    "    return 'Adult, Median income, 2 Dependants'\n",
    " elif (row['Age'] >=33) and (row['Age'] <65) and (row['income'] >=67292) and (row['income'] <128102) and (row ['Dependants'] ==3):\n",
    "    return 'Adult, Median income, 3 Dependants'\n",
    " elif (row['Age'] >=33) and (row['Age'] <65) and (row['income'] >=128102) and (row ['Dependants'] ==1):\n",
    "    return 'Adult, High income, 1 Dependants'\n",
    " elif (row['Age'] >=33) and (row['Age'] <65) and (row['income'] >=128102) and (row ['Dependants'] ==2):\n",
    "    return 'Adult, High income, 2 Dependants'\n",
    " elif (row['Age'] >=33) and (row['Age'] <65) and (row['income'] >=128102) and (row ['Dependants'] ==3):\n",
    "    return 'Adult, High income, 3 Dependants'\n",
    " elif (row['Age'] >=65) and (row['income'] <67292) and (row ['Dependants'] ==1):\n",
    "    return 'Senior Adult, Low income, 1 Dependants'\n",
    " elif (row['Age'] >=65) and (row['income'] <67292) and (row ['Dependants'] ==2):\n",
    "    return 'Senior Adult, Low income, 2 Dependants'\n",
    " elif (row['Age'] >=65) and (row['income'] <67292) and (row ['Dependants'] ==3):\n",
    "    return 'Senior Adult, Low income, 3 Dependants'\n",
    " elif (row['Age'] >=65) and (row['income'] >=67292) and (row['income'] <128102) and (row ['Dependants'] ==1):\n",
    "    return 'Senior Adult, Low Median income, 1 Dependants'\n",
    " elif (row['Age'] >=65) and (row['income'] >=67292) and (row['income'] <128102) and (row ['Dependants'] ==2):\n",
    "    return 'Senior Adult, Median income, 2 Dependants'\n",
    " elif (row['Age'] >=65) and (row['income'] >=67292) and (row['income'] <128102) and (row ['Dependants'] ==3):\n",
    "    return 'Senior Adult, Median income, 3 Dependants'\n",
    " elif (row['Age'] >=65) and (row['income'] >=128102) and (row ['Dependants'] ==1):\n",
    "    return 'Senior Adult, High income, 1 Dependants'\n",
    " elif (row['Age'] >=65) and (row['income'] >=128102) and (row ['Dependants'] ==2):\n",
    "    return 'Senior Adult, High income, 2 Dependants'\n",
    " elif (row['Age'] >=65) and (row['income'] >=128102) and (row ['Dependants'] ==3):\n",
    "    return 'Senior Adult, High income, 3 Dependants'"
   ]
  },
  {
   "cell_type": "code",
   "execution_count": 72,
   "id": "76606a12",
   "metadata": {},
   "outputs": [
    {
     "name": "stderr",
     "output_type": "stream",
     "text": [
      "C:\\Users\\Asus\\AppData\\Local\\Temp\\ipykernel_13188\\2372352761.py:1: SettingWithCopyWarning: \n",
      "A value is trying to be set on a copy of a slice from a DataFrame.\n",
      "Try using .loc[row_indexer,col_indexer] = value instead\n",
      "\n",
      "See the caveats in the documentation: https://pandas.pydata.org/pandas-docs/stable/user_guide/indexing.html#returning-a-view-versus-a-copy\n",
      "  IC_full_merge2['Age'] = IC_full_merge2['Age'].astype('int8')\n"
     ]
    }
   ],
   "source": [
    "#changing datatype\n",
    "\n",
    "IC_full_merge2['Age'] = IC_full_merge2['Age'].astype('int8')"
   ]
  },
  {
   "cell_type": "code",
   "execution_count": 76,
   "id": "51253d64",
   "metadata": {},
   "outputs": [
    {
     "name": "stderr",
     "output_type": "stream",
     "text": [
      "C:\\Users\\Asus\\AppData\\Local\\Temp\\ipykernel_13188\\236646000.py:1: SettingWithCopyWarning: \n",
      "A value is trying to be set on a copy of a slice from a DataFrame.\n",
      "Try using .loc[row_indexer,col_indexer] = value instead\n",
      "\n",
      "See the caveats in the documentation: https://pandas.pydata.org/pandas-docs/stable/user_guide/indexing.html#returning-a-view-versus-a-copy\n",
      "  IC_full_merge2['income'] = IC_full_merge2['income'].astype('int16')\n"
     ]
    }
   ],
   "source": [
    "# changing datatype\n",
    "\n",
    "IC_full_merge2['income'] = IC_full_merge2['income'].astype('int16')"
   ]
  },
  {
   "cell_type": "code",
   "execution_count": 74,
   "id": "b3540b5a",
   "metadata": {},
   "outputs": [
    {
     "name": "stderr",
     "output_type": "stream",
     "text": [
      "C:\\Users\\Asus\\AppData\\Local\\Temp\\ipykernel_13188\\247557971.py:1: SettingWithCopyWarning: \n",
      "A value is trying to be set on a copy of a slice from a DataFrame.\n",
      "Try using .loc[row_indexer,col_indexer] = value instead\n",
      "\n",
      "See the caveats in the documentation: https://pandas.pydata.org/pandas-docs/stable/user_guide/indexing.html#returning-a-view-versus-a-copy\n",
      "  IC_full_merge2['Dependants'] = IC_full_merge2['Dependants'].astype('int8')\n"
     ]
    }
   ],
   "source": [
    "# changing datatype\n",
    "\n",
    "IC_full_merge2['Dependants'] = IC_full_merge2['Dependants'].astype('int8')"
   ]
  },
  {
   "cell_type": "code",
   "execution_count": 83,
   "id": "09694ae4",
   "metadata": {},
   "outputs": [],
   "source": [
    "# create a subset to address memory issues due to size od dataframe\n",
    "\n",
    "subset = IC_full_merge2[['Dependants', 'Age', 'income']]\n"
   ]
  },
  {
   "cell_type": "code",
   "execution_count": 84,
   "id": "c045b443",
   "metadata": {},
   "outputs": [
    {
     "name": "stderr",
     "output_type": "stream",
     "text": [
      "C:\\Users\\Asus\\AppData\\Local\\Temp\\ipykernel_13188\\2541515150.py:4: SettingWithCopyWarning: \n",
      "A value is trying to be set on a copy of a slice from a DataFrame.\n",
      "Try using .loc[row_indexer,col_indexer] = value instead\n",
      "\n",
      "See the caveats in the documentation: https://pandas.pydata.org/pandas-docs/stable/user_guide/indexing.html#returning-a-view-versus-a-copy\n",
      "  subset['profiles'] = subset.apply(profile_variable, axis=1)\n"
     ]
    }
   ],
   "source": [
    "# create profile column calles \"subset\". Axis = 1 is all rows, axis = 0 is all columns\n",
    "\n",
    "\n",
    "subset['profiles'] = subset.apply(profile_variable, axis=1)                                        "
   ]
  },
  {
   "cell_type": "code",
   "execution_count": 86,
   "id": "6e4fb47d",
   "metadata": {},
   "outputs": [
    {
     "name": "stdout",
     "output_type": "stream",
     "text": [
      "<class 'pandas.core.frame.DataFrame'>\n",
      "Index: 30964564 entries, 0 to 32404817\n",
      "Data columns (total 4 columns):\n",
      " #   Column      Dtype \n",
      "---  ------      ----- \n",
      " 0   Dependants  int8  \n",
      " 1   Age         int8  \n",
      " 2   income      int16 \n",
      " 3   profiles    object\n",
      "dtypes: int16(1), int8(2), object(1)\n",
      "memory usage: 590.6+ MB\n"
     ]
    }
   ],
   "source": [
    "subset.info()"
   ]
  },
  {
   "cell_type": "code",
   "execution_count": 87,
   "id": "60df7200",
   "metadata": {},
   "outputs": [
    {
     "data": {
      "text/plain": [
       "profiles\n",
       "None                                      7739681\n",
       "Adult, Low income, 3 Dependants           3888158\n",
       "Adult, Low income, 1 Dependants           3878960\n",
       "Adult, Low income, 2 Dependants           3815801\n",
       "Senior Adult, Low income, 2 Dependants    2093847\n",
       "Senior Adult, Low income, 3 Dependants    2050750\n",
       "Senior Adult, Low income, 1 Dependants    2028989\n",
       "Young Adult, Low income, 3 Dependants     1833608\n",
       "Young Adult, Low income, 2 Dependants     1823613\n",
       "Young Adult, Low income, 1 Dependants     1811157\n",
       "Name: count, dtype: int64"
      ]
     },
     "execution_count": 87,
     "metadata": {},
     "output_type": "execute_result"
    }
   ],
   "source": [
    "subset['profiles'].value_counts(dropna = False)"
   ]
  },
  {
   "cell_type": "code",
   "execution_count": 88,
   "id": "a138ccc7",
   "metadata": {},
   "outputs": [
    {
     "name": "stdout",
     "output_type": "stream",
     "text": [
      "<class 'pandas.core.frame.DataFrame'>\n",
      "Index: 30964564 entries, 0 to 32404817\n",
      "Data columns (total 38 columns):\n",
      " #   Column                  Dtype         \n",
      "---  ------                  -----         \n",
      " 0   user_id                 int32         \n",
      " 1   First Name              object        \n",
      " 2   Surname                 object        \n",
      " 3   Gender                  object        \n",
      " 4   State                   object        \n",
      " 5   Age                     int8          \n",
      " 6   Date_joined             datetime64[ns]\n",
      " 7   Dependants              int8          \n",
      " 8   Family_status           object        \n",
      " 9   income                  int16         \n",
      " 10  product_id              int64         \n",
      " 11  product_name            object        \n",
      " 12  aisle_id                int64         \n",
      " 13  department_id           int64         \n",
      " 14  prices                  float64       \n",
      " 15  order_id                int32         \n",
      " 16  order_number            int8          \n",
      " 17  orders_day_of_week      int8          \n",
      " 18  order_time_of_day       int8          \n",
      " 19  days_since_prior_order  float16       \n",
      " 20  add_to_cart_order       int32         \n",
      " 21  reordered               int8          \n",
      " 22  price_range_loc         object        \n",
      " 23  busiest_day             object        \n",
      " 24  Busiest_days            object        \n",
      " 25  busiest_period_of_day   object        \n",
      " 26  max_order               int8          \n",
      " 27  loyalty_flag            object        \n",
      " 28  spender_average         float64       \n",
      " 29  spender_flag            object        \n",
      " 30  frequency_average       float16       \n",
      " 31  frequency_flag          object        \n",
      " 32  _merge                  category      \n",
      " 33  region                  object        \n",
      " 34  exclusion_flag          object        \n",
      " 35  age_group               object        \n",
      " 36  income_level            object        \n",
      " 37  dependants_qty          float64       \n",
      "dtypes: category(1), datetime64[ns](1), float16(2), float64(3), int16(1), int32(3), int64(3), int8(7), object(17)\n",
      "memory usage: 6.5+ GB\n"
     ]
    }
   ],
   "source": [
    "IC_full_merge2.info()"
   ]
  },
  {
   "cell_type": "code",
   "execution_count": null,
   "id": "585df192",
   "metadata": {},
   "outputs": [],
   "source": []
  }
 ],
 "metadata": {
  "kernelspec": {
   "display_name": "Python 3 (ipykernel)",
   "language": "python",
   "name": "python3"
  },
  "language_info": {
   "codemirror_mode": {
    "name": "ipython",
    "version": 3
   },
   "file_extension": ".py",
   "mimetype": "text/x-python",
   "name": "python",
   "nbconvert_exporter": "python",
   "pygments_lexer": "ipython3",
   "version": "3.11.5"
  }
 },
 "nbformat": 4,
 "nbformat_minor": 5
}
